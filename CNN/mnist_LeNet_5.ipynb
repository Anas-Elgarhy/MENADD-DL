{
  "nbformat": 4,
  "nbformat_minor": 0,
  "metadata": {
    "kernelspec": {
      "display_name": "Python 3",
      "language": "python",
      "name": "python3"
    },
    "language_info": {
      "codemirror_mode": {
        "name": "ipython",
        "version": 3
      },
      "file_extension": ".py",
      "mimetype": "text/x-python",
      "name": "python",
      "nbconvert_exporter": "python",
      "pygments_lexer": "ipython3",
      "version": "3.7.1"
    },
    "colab": {
      "name": " mnist_LeNet_5.ipynb",
      "provenance": [],
      "include_colab_link": true
    }
  },
  "cells": [
    {
      "cell_type": "markdown",
      "metadata": {
        "id": "view-in-github",
        "colab_type": "text"
      },
      "source": [
        "<a href=\"https://colab.research.google.com/github/Ruqyai/MENADD-DL/blob/main/CNN/mnist_LeNet_5.ipynb\" target=\"_parent\"><img src=\"https://colab.research.google.com/assets/colab-badge.svg\" alt=\"Open In Colab\"/></a>"
      ]
    },
    {
      "cell_type": "code",
      "metadata": {
        "id": "iHbtpzORhP-B"
      },
      "source": [
        "import pandas as pd\n",
        "import seaborn as sns\n",
        "import matplotlib.pyplot as plt\n",
        "import numpy as np\n",
        "from keras.models import Sequential\n",
        "from keras.layers import Dense, Activation,Flatten,AveragePooling2D,Conv2D\n",
        "from keras.optimizers import SGD, Adam, RMSprop\n",
        "from keras.utils import np_utils\n",
        "from keras.datasets import mnist\n",
        "from pathlib import Path"
      ],
      "execution_count": 1,
      "outputs": []
    },
    {
      "cell_type": "code",
      "metadata": {
        "id": "rgFDM7FKhP-E",
        "colab": {
          "base_uri": "https://localhost:8080/"
        },
        "outputId": "37184e36-0200-4ea1-c16c-35cd4a7afa4c"
      },
      "source": [
        "\n",
        "(train_x,train_y),(test_x,test_y)=mnist.load_data()\n",
        "\n",
        "train_x=np.reshape(train_x,(-1,28,28,1))\n",
        "print(\"train_x.shape:{}\".format(train_x.shape))\n",
        "train_y=np_utils.to_categorical(train_y,10)\n",
        "print(\"train_y.shape:{}\".format(train_y.shape))\n",
        "\n",
        "test_x=np.reshape(test_x,(-1,28,28,1))\n",
        "print(\"test_x.shape:{}\".format(test_x.shape))\n",
        "test_y=np_utils.to_categorical(test_y,10)\n",
        "print(\"test_y.shape:{}\".format(test_y.shape))"
      ],
      "execution_count": 2,
      "outputs": [
        {
          "output_type": "stream",
          "text": [
            "Downloading data from https://storage.googleapis.com/tensorflow/tf-keras-datasets/mnist.npz\n",
            "11493376/11490434 [==============================] - 0s 0us/step\n",
            "11501568/11490434 [==============================] - 0s 0us/step\n",
            "train_x.shape:(60000, 28, 28, 1)\n",
            "train_y.shape:(60000, 10)\n",
            "test_x.shape:(10000, 28, 28, 1)\n",
            "test_y.shape:(10000, 10)\n"
          ],
          "name": "stdout"
        }
      ]
    },
    {
      "cell_type": "code",
      "metadata": {
        "id": "nyq5JjCYscgL",
        "colab": {
          "base_uri": "https://localhost:8080/",
          "height": 282
        },
        "outputId": "f0c86f51-652d-4aad-ad4d-22dec72a9a30"
      },
      "source": [
        "index = np.random.randint(0, len(train_x))\n",
        "image = train_x[index].squeeze()\n",
        "\n",
        "plt.figure(figsize=(4,4))\n",
        "plt.imshow(image, cmap=\"gray\")"
      ],
      "execution_count": 3,
      "outputs": [
        {
          "output_type": "execute_result",
          "data": {
            "text/plain": [
              "<matplotlib.image.AxesImage at 0x7fc4b7e738d0>"
            ]
          },
          "metadata": {
            "tags": []
          },
          "execution_count": 3
        },
        {
          "output_type": "display_data",
          "data": {
            "image/png": "[encoded data removed]",
            "text/plain": [
              "<Figure size 288x288 with 1 Axes>"
            ]
          },
          "metadata": {
            "tags": [],
            "needs_background": "light"
          }
        }
      ]
    },
    {
      "cell_type": "code",
      "metadata": {
        "id": "5hY2hlZrhP-F"
      },
      "source": [
        "\n",
        "model = Sequential()\n",
        "\n",
        "model.add(Conv2D(filters = 6, kernel_size = (5,5), padding='same', strides=(1, 1), activation ='relu', input_shape = (28,28,1)))\n",
        "\n",
        "model.add(AveragePooling2D(pool_size=(2,2) , strides=(2, 2)))\n",
        "\n",
        "model.add(Conv2D(filters = 16, kernel_size = (5,5), padding='valid', strides=(1, 1), activation ='relu'))\n",
        "\n",
        "model.add(AveragePooling2D(pool_size=(2,2) , strides=(2, 2)))\n",
        "\n",
        "model.add(Flatten())\n",
        "\n",
        "model.add(Dense(120, activation = \"relu\"))\n",
        "\n",
        "model.add(Dense(84, activation = \"relu\"))\n",
        "\n",
        "model.add(Dense(10, activation = \"softmax\"))\n"
      ],
      "execution_count": 4,
      "outputs": []
    },
    {
      "cell_type": "code",
      "metadata": {
        "id": "ujRaTv-jhP-F",
        "colab": {
          "base_uri": "https://localhost:8080/"
        },
        "outputId": "b512d161-85be-4878-89f2-e95a1e8398df"
      },
      "source": [
        "model.compile(loss='categorical_crossentropy',\n",
        "              optimizer='adam',\n",
        "              metrics=['accuracy'])\n",
        "# Output model structure\n",
        "model.summary()"
      ],
      "execution_count": 5,
      "outputs": [
        {
          "output_type": "stream",
          "text": [
            "Model: \"sequential\"\n",
            "_________________________________________________________________\n",
            "Layer (type)                 Output Shape              Param #   \n",
            "=================================================================\n",
            "conv2d (Conv2D)              (None, 28, 28, 6)         156       \n",
            "_________________________________________________________________\n",
            "average_pooling2d (AveragePo (None, 14, 14, 6)         0         \n",
            "_________________________________________________________________\n",
            "conv2d_1 (Conv2D)            (None, 10, 10, 16)        2416      \n",
            "_________________________________________________________________\n",
            "average_pooling2d_1 (Average (None, 5, 5, 16)          0         \n",
            "_________________________________________________________________\n",
            "flatten (Flatten)            (None, 400)               0         \n",
            "_________________________________________________________________\n",
            "dense (Dense)                (None, 120)               48120     \n",
            "_________________________________________________________________\n",
            "dense_1 (Dense)              (None, 84)                10164     \n",
            "_________________________________________________________________\n",
            "dense_2 (Dense)              (None, 10)                850       \n",
            "=================================================================\n",
            "Total params: 61,706\n",
            "Trainable params: 61,706\n",
            "Non-trainable params: 0\n",
            "_________________________________________________________________\n"
          ],
          "name": "stdout"
        }
      ]
    },
    {
      "cell_type": "code",
      "metadata": {
        "id": "tBs5glgYhP-G",
        "colab": {
          "base_uri": "https://localhost:8080/"
        },
        "outputId": "6d126e24-4185-4a4f-b6e1-6987605357d5"
      },
      "source": [
        "model.fit(train_x,train_y,\n",
        "           batch_size=64,\n",
        "           epochs=3,\n",
        "           verbose=1,\n",
        "           validation_data=(test_x,test_y))\n"
      ],
      "execution_count": 6,
      "outputs": [
        {
          "output_type": "stream",
          "text": [
            "Epoch 1/3\n",
            "938/938 [==============================] - 51s 38ms/step - loss: 0.6530 - accuracy: 0.8665 - val_loss: 0.0815 - val_accuracy: 0.9754\n",
            "Epoch 2/3\n",
            "938/938 [==============================] - 36s 38ms/step - loss: 0.0680 - accuracy: 0.9785 - val_loss: 0.0540 - val_accuracy: 0.9837\n",
            "Epoch 3/3\n",
            "938/938 [==============================] - 36s 39ms/step - loss: 0.0442 - accuracy: 0.9864 - val_loss: 0.0610 - val_accuracy: 0.9818\n"
          ],
          "name": "stdout"
        },
        {
          "output_type": "execute_result",
          "data": {
            "text/plain": [
              "<keras.callbacks.History at 0x7fc4b4023a90>"
            ]
          },
          "metadata": {
            "tags": []
          },
          "execution_count": 6
        }
      ]
    },
    {
      "cell_type": "code",
      "metadata": {
        "id": "4aVFcb6hhP-G",
        "colab": {
          "base_uri": "https://localhost:8080/"
        },
        "outputId": "c4a61015-abd4-4fe7-deee-4e2c26fe7f04"
      },
      "source": [
        "score = model.evaluate(test_x, test_y, verbose=1)\n",
        "print('Val loss:', score[0])\n",
        "print('Val accuracy:', score[1])"
      ],
      "execution_count": 7,
      "outputs": [
        {
          "output_type": "stream",
          "text": [
            "313/313 [==============================] - 3s 11ms/step - loss: 0.0610 - accuracy: 0.9818\n",
            "Val loss: 0.060973554849624634\n",
            "Val accuracy: 0.9818000197410583\n"
          ],
          "name": "stdout"
        }
      ]
    }
  ]
}