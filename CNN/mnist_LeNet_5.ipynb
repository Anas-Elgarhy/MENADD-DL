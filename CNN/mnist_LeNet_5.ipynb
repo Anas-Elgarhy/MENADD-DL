{
  "nbformat": 4,
  "nbformat_minor": 0,
  "metadata": {
    "kernelspec": {
      "display_name": "Python 3",
      "language": "python",
      "name": "python3"
    },
    "language_info": {
      "codemirror_mode": {
        "name": "ipython",
        "version": 3
      },
      "file_extension": ".py",
      "mimetype": "text/x-python",
      "name": "python",
      "nbconvert_exporter": "python",
      "pygments_lexer": "ipython3",
      "version": "3.7.1"
    },
    "colab": {
      "name": " mnist_LeNet_5.ipynb",
      "provenance": [],
      "include_colab_link": true
    }
  },
  "cells": [
    {
      "cell_type": "markdown",
      "metadata": {
        "id": "view-in-github",
        "colab_type": "text"
      },
      "source": [
        "<a href=\"https://colab.research.google.com/github/Ruqyai/MENADD-DL/blob/main/CNN/mnist_LeNet_5.ipynb\" target=\"_parent\"><img src=\"https://colab.research.google.com/assets/colab-badge.svg\" alt=\"Open In Colab\"/></a>"
      ]
    },
    {
      "cell_type": "code",
      "metadata": {
        "id": "iHbtpzORhP-B"
      },
      "source": [
        "import pandas as pd\n",
        "import seaborn as sns\n",
        "import matplotlib.pyplot as plt\n",
        "import numpy as np\n",
        "from keras.models import Sequential\n",
        "from keras.layers import Dense, Activation,Flatten,AveragePooling2D,Conv2D\n",
        "from keras.optimizers import SGD, Adam, RMSprop\n",
        "from keras.utils import np_utils\n",
        "from keras.datasets import mnist\n",
        "from pathlib import Path"
      ],
      "execution_count": null,
      "outputs": []
    },
    {
      "cell_type": "code",
      "metadata": {
        "id": "rgFDM7FKhP-E",
        "colab": {
          "base_uri": "https://localhost:8080/"
        },
        "outputId": "8819ea57-6cbe-4e52-c88c-b4d8b9e0c54d"
      },
      "source": [
        "\n",
        "(train_x,train_y),(test_x,test_y)=mnist.load_data()\n",
        "\n",
        "train_x=np.reshape(train_x,(-1,28,28,1))\n",
        "print(\"train_x.shape:{}\".format(train_x.shape))\n",
        "train_y=np_utils.to_categorical(train_y,10)\n",
        "print(\"train_y.shape:{}\".format(train_y.shape))\n",
        "\n",
        "test_x=np.reshape(test_x,(-1,28,28,1))\n",
        "print(\"test_x.shape:{}\".format(test_x.shape))\n",
        "test_y=np_utils.to_categorical(test_y,10)\n",
        "print(\"test_y.shape:{}\".format(test_y.shape))"
      ],
      "execution_count": null,
      "outputs": [
        {
          "output_type": "stream",
          "text": [
            "train_x.shape:(60000, 28, 28, 1)\n",
            "train_y.shape:(60000, 10)\n",
            "test_x.shape:(10000, 28, 28, 1)\n",
            "test_y.shape:(10000, 10)\n"
          ],
          "name": "stdout"
        }
      ]
    },
    {
      "cell_type": "code",
      "metadata": {
        "id": "nyq5JjCYscgL",
        "colab": {
          "base_uri": "https://localhost:8080/",
          "height": 282
        },
        "outputId": "37ef446e-cb4c-4dc6-99f5-cd788c6d39bf"
      },
      "source": [
        "index = np.random.randint(0, len(train_x))\n",
        "image = train_x[index].squeeze()\n",
        "\n",
        "plt.figure(figsize=(4,4))\n",
        "plt.imshow(image, cmap=\"gray\")"
      ],
      "execution_count": null,
      "outputs": [
        {
          "output_type": "execute_result",
          "data": {
            "text/plain": [
              "<matplotlib.image.AxesImage at 0x7f3bac880a50>"
            ]
          },
          "metadata": {
            "tags": []
          },
          "execution_count": 24
        },
        {
          "output_type": "display_data",
          "data": {
            "image/png": "[encoded data removed]",
            "text/plain": [
              "<Figure size 288x288 with 1 Axes>"
            ]
          },
          "metadata": {
            "tags": [],
            "needs_background": "light"
          }
        }
      ]
    },
    {
      "cell_type": "code",
      "metadata": {
        "id": "5hY2hlZrhP-F"
      },
      "source": [
        "\n",
        "model = Sequential()\n",
        "\n",
        "model.add(Conv2D(filters = 6, kernel_size = (5,5), padding='same', strides=(1, 1), activation ='relu', input_shape = (28,28,1)))\n",
        "model.add(AveragePooling2D(pool_size=(2,2) , strides=(2, 2)))\n",
        "model.add(Conv2D(filters = 16, kernel_size = (5,5), padding='same', strides=(1, 1), activation ='relu'))\n",
        "model.add(AveragePooling2D(pool_size=(2,2) , strides=(2, 2)))\n",
        "\n",
        "model.add(Flatten())\n",
        "\n",
        "model.add(Dense(120, activation = \"relu\"))\n",
        "\n",
        "model.add(Dense(84, activation = \"relu\"))\n",
        "\n",
        "model.add(Dense(10, activation = \"softmax\"))"
      ],
      "execution_count": null,
      "outputs": []
    },
    {
      "cell_type": "code",
      "metadata": {
        "id": "ujRaTv-jhP-F",
        "colab": {
          "base_uri": "https://localhost:8080/"
        },
        "outputId": "7baf0d83-5dc9-422a-f869-05513fca5075"
      },
      "source": [
        "\n",
        "model.compile(loss='categorical_crossentropy',\n",
        "              optimizer='adam',\n",
        "              metrics=['accuracy'])\n",
        "# Output model structure\n",
        "model.summary()"
      ],
      "execution_count": null,
      "outputs": [
        {
          "output_type": "stream",
          "text": [
            "Model: \"sequential_4\"\n",
            "_________________________________________________________________\n",
            "Layer (type)                 Output Shape              Param #   \n",
            "=================================================================\n",
            "conv2d_8 (Conv2D)            (None, 28, 28, 6)         156       \n",
            "_________________________________________________________________\n",
            "average_pooling2d_8 (Average (None, 14, 14, 6)         0         \n",
            "_________________________________________________________________\n",
            "conv2d_9 (Conv2D)            (None, 14, 14, 16)        2416      \n",
            "_________________________________________________________________\n",
            "average_pooling2d_9 (Average (None, 7, 7, 16)          0         \n",
            "_________________________________________________________________\n",
            "flatten_4 (Flatten)          (None, 784)               0         \n",
            "_________________________________________________________________\n",
            "dense_12 (Dense)             (None, 120)               94200     \n",
            "_________________________________________________________________\n",
            "dense_13 (Dense)             (None, 84)                10164     \n",
            "_________________________________________________________________\n",
            "dense_14 (Dense)             (None, 10)                850       \n",
            "=================================================================\n",
            "Total params: 107,786\n",
            "Trainable params: 107,786\n",
            "Non-trainable params: 0\n",
            "_________________________________________________________________\n"
          ],
          "name": "stdout"
        }
      ]
    },
    {
      "cell_type": "code",
      "metadata": {
        "id": "tBs5glgYhP-G",
        "colab": {
          "base_uri": "https://localhost:8080/"
        },
        "outputId": "30bbb935-3cfb-44cf-bb9e-3632eb1e857f"
      },
      "source": [
        "model.fit(train_x,train_y,\n",
        "           batch_size=64,\n",
        "           epochs=3,\n",
        "           verbose=1,\n",
        "           validation_data=(test_x,test_y))\n"
      ],
      "execution_count": null,
      "outputs": [
        {
          "output_type": "stream",
          "text": [
            "Epoch 1/3\n",
            "938/938 [==============================] - 41s 43ms/step - loss: 0.4943 - accuracy: 0.8886 - val_loss: 0.0630 - val_accuracy: 0.9795\n",
            "Epoch 2/3\n",
            "938/938 [==============================] - 41s 44ms/step - loss: 0.0603 - accuracy: 0.9816 - val_loss: 0.0453 - val_accuracy: 0.9846\n",
            "Epoch 3/3\n",
            "938/938 [==============================] - 41s 44ms/step - loss: 0.0407 - accuracy: 0.9876 - val_loss: 0.0504 - val_accuracy: 0.9834\n"
          ],
          "name": "stdout"
        },
        {
          "output_type": "execute_result",
          "data": {
            "text/plain": [
              "<keras.callbacks.History at 0x7f3babf70cd0>"
            ]
          },
          "metadata": {
            "tags": []
          },
          "execution_count": 27
        }
      ]
    },
    {
      "cell_type": "code",
      "metadata": {
        "id": "4aVFcb6hhP-G",
        "colab": {
          "base_uri": "https://localhost:8080/"
        },
        "outputId": "11e9e03d-a2cf-4669-d78b-fe41cd0b597d"
      },
      "source": [
        "score = model.evaluate(test_x, test_y, verbose=1)\n",
        "print('Val loss:', score[0])\n",
        "print('Val accuracy:', score[1])"
      ],
      "execution_count": null,
      "outputs": [
        {
          "output_type": "stream",
          "text": [
            "313/313 [==============================] - 3s 11ms/step - loss: 0.0504 - accuracy: 0.9834\n",
            "Val loss: 0.05035831034183502\n",
            "Val accuracy: 0.9833999872207642\n"
          ],
          "name": "stdout"
        }
      ]
    }
  ]
}