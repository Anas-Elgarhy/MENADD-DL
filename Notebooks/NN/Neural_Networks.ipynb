{
  "nbformat": 4,
  "nbformat_minor": 0,
  "metadata": {
    "colab": {
      "name": "Neural Networks.ipynb",
      "provenance": [],
      "authorship_tag": "ABX9TyOzfHS8ksOAq4cJ7VmTJtYh",
      "include_colab_link": true
    },
    "kernelspec": {
      "name": "python3",
      "display_name": "Python 3"
    }
  },
  "cells": [
    {
      "cell_type": "markdown",
      "metadata": {
        "id": "view-in-github",
        "colab_type": "text"
      },
      "source": [
        "<a href=\"https://colab.research.google.com/github/Ruqyai/MENADD-DL/blob/main/Notebooks/NN/Neural_Networks.ipynb\" target=\"_parent\"><img src=\"https://colab.research.google.com/assets/colab-badge.svg\" alt=\"Open In Colab\"/></a>"
      ]
    },
    {
      "cell_type": "code",
      "metadata": {
        "id": "1KF1KXE-FT6G"
      },
      "source": [
        "# mlp for regression\n",
        "from numpy import sqrt\n",
        "from pandas import read_csv\n",
        "from sklearn.model_selection import train_test_split\n",
        "from tensorflow.keras import Sequential\n",
        "from tensorflow.keras.layers import Dense\n"
      ],
      "execution_count": null,
      "outputs": []
    },
    {
      "cell_type": "code",
      "metadata": {
        "id": "gCWn4izOFXIX"
      },
      "source": [
        "# load the dataset\n",
        "path = 'https://raw.githubusercontent.com/jbrownlee/Datasets/master/housing.csv'\n",
        "df = read_csv(path, header=None)"
      ],
      "execution_count": null,
      "outputs": []
    },
    {
      "cell_type": "code",
      "metadata": {
        "id": "CU0C_6tXFZDV"
      },
      "source": [
        "# split into input and output columns\n",
        "X, y = df.values[:, :-1], df.values[:, -1]"
      ],
      "execution_count": null,
      "outputs": []
    },
    {
      "cell_type": "code",
      "metadata": {
        "colab": {
          "base_uri": "https://localhost:8080/"
        },
        "id": "bBy1xfRqFaZw",
        "outputId": "580cc353-31b7-4be2-a647-401dc9d0c9c1"
      },
      "source": [
        "# split into train and test datasets\n",
        "X_train, X_test, y_train, y_test = train_test_split(X, y, test_size=0.33)\n",
        "print(X_train.shape, X_test.shape, y_train.shape, y_test.shape)"
      ],
      "execution_count": null,
      "outputs": [
        {
          "output_type": "stream",
          "text": [
            "(339, 13) (167, 13) (339,) (167,)\n"
          ],
          "name": "stdout"
        }
      ]
    },
    {
      "cell_type": "code",
      "metadata": {
        "id": "WzhSzxJhFcEw"
      },
      "source": [
        "# determine the number of input features\n",
        "n_features = X_train.shape[1]"
      ],
      "execution_count": null,
      "outputs": []
    },
    {
      "cell_type": "code",
      "metadata": {
        "id": "JN7qZEPWFi4S"
      },
      "source": [
        "# define model\n",
        "model = Sequential()\n",
        "model.add(Dense(10, activation='relu', input_shape=(n_features,)))\n",
        "model.add(Dense(8, activation='relu'))\n",
        "model.add(Dense(1))"
      ],
      "execution_count": null,
      "outputs": []
    },
    {
      "cell_type": "code",
      "metadata": {
        "id": "xwh6T60qFklw"
      },
      "source": [
        "# compile the model\n",
        "model.compile(optimizer='adam', loss='mse')"
      ],
      "execution_count": null,
      "outputs": []
    },
    {
      "cell_type": "code",
      "metadata": {
        "colab": {
          "base_uri": "https://localhost:8080/"
        },
        "id": "okhkeR_KFmIb",
        "outputId": "ed4ea825-f29a-4b7f-c663-132ac34d7f04"
      },
      "source": [
        "# fit the model\n",
        "model.fit(X_train, y_train, epochs=150, batch_size=32, verbose=1)"
      ],
      "execution_count": null,
      "outputs": [
        {
          "output_type": "stream",
          "text": [
            "Epoch 1/150\n",
            "11/11 [==============================] - 0s 2ms/step - loss: 550.6273\n",
            "Epoch 2/150\n",
            "11/11 [==============================] - 0s 2ms/step - loss: 329.1620\n",
            "Epoch 3/150\n",
            "11/11 [==============================] - 0s 2ms/step - loss: 183.2227\n",
            "Epoch 4/150\n",
            "11/11 [==============================] - 0s 2ms/step - loss: 144.4205\n",
            "Epoch 5/150\n",
            "11/11 [==============================] - 0s 2ms/step - loss: 123.6650\n",
            "Epoch 6/150\n",
            "11/11 [==============================] - 0s 1ms/step - loss: 109.8165\n",
            "Epoch 7/150\n",
            "11/11 [==============================] - 0s 1ms/step - loss: 103.2595\n",
            "Epoch 8/150\n",
            "11/11 [==============================] - 0s 1ms/step - loss: 84.1868\n",
            "Epoch 9/150\n",
            "11/11 [==============================] - 0s 2ms/step - loss: 94.4196\n",
            "Epoch 10/150\n",
            "11/11 [==============================] - 0s 1ms/step - loss: 77.6489\n",
            "Epoch 11/150\n",
            "11/11 [==============================] - 0s 2ms/step - loss: 81.3377\n",
            "Epoch 12/150\n",
            "11/11 [==============================] - 0s 2ms/step - loss: 80.9642\n",
            "Epoch 13/150\n",
            "11/11 [==============================] - 0s 3ms/step - loss: 67.5644\n",
            "Epoch 14/150\n",
            "11/11 [==============================] - 0s 3ms/step - loss: 80.7878\n",
            "Epoch 15/150\n",
            "11/11 [==============================] - 0s 2ms/step - loss: 76.2662\n",
            "Epoch 16/150\n",
            "11/11 [==============================] - 0s 2ms/step - loss: 83.6851\n",
            "Epoch 17/150\n",
            "11/11 [==============================] - 0s 2ms/step - loss: 69.1104\n",
            "Epoch 18/150\n",
            "11/11 [==============================] - 0s 2ms/step - loss: 75.0725\n",
            "Epoch 19/150\n",
            "11/11 [==============================] - 0s 1ms/step - loss: 67.3575\n",
            "Epoch 20/150\n",
            "11/11 [==============================] - 0s 2ms/step - loss: 62.9039\n",
            "Epoch 21/150\n",
            "11/11 [==============================] - 0s 2ms/step - loss: 58.7176\n",
            "Epoch 22/150\n",
            "11/11 [==============================] - 0s 2ms/step - loss: 67.5443\n",
            "Epoch 23/150\n",
            "11/11 [==============================] - 0s 2ms/step - loss: 63.7729\n",
            "Epoch 24/150\n",
            "11/11 [==============================] - 0s 2ms/step - loss: 66.1780\n",
            "Epoch 25/150\n",
            "11/11 [==============================] - 0s 2ms/step - loss: 70.5460\n",
            "Epoch 26/150\n",
            "11/11 [==============================] - 0s 2ms/step - loss: 74.9153\n",
            "Epoch 27/150\n",
            "11/11 [==============================] - 0s 2ms/step - loss: 64.9042\n",
            "Epoch 28/150\n",
            "11/11 [==============================] - 0s 2ms/step - loss: 64.2092\n",
            "Epoch 29/150\n",
            "11/11 [==============================] - 0s 2ms/step - loss: 53.3977\n",
            "Epoch 30/150\n",
            "11/11 [==============================] - 0s 2ms/step - loss: 61.0484\n",
            "Epoch 31/150\n",
            "11/11 [==============================] - 0s 2ms/step - loss: 56.9381\n",
            "Epoch 32/150\n",
            "11/11 [==============================] - 0s 2ms/step - loss: 55.0752\n",
            "Epoch 33/150\n",
            "11/11 [==============================] - 0s 2ms/step - loss: 54.9053\n",
            "Epoch 34/150\n",
            "11/11 [==============================] - 0s 2ms/step - loss: 58.2026\n",
            "Epoch 35/150\n",
            "11/11 [==============================] - 0s 2ms/step - loss: 57.1912\n",
            "Epoch 36/150\n",
            "11/11 [==============================] - 0s 2ms/step - loss: 53.5714\n",
            "Epoch 37/150\n",
            "11/11 [==============================] - 0s 2ms/step - loss: 61.3329\n",
            "Epoch 38/150\n",
            "11/11 [==============================] - 0s 2ms/step - loss: 64.7242\n",
            "Epoch 39/150\n",
            "11/11 [==============================] - 0s 2ms/step - loss: 62.5878\n",
            "Epoch 40/150\n",
            "11/11 [==============================] - 0s 2ms/step - loss: 54.6193\n",
            "Epoch 41/150\n",
            "11/11 [==============================] - 0s 2ms/step - loss: 56.8735\n",
            "Epoch 42/150\n",
            "11/11 [==============================] - 0s 2ms/step - loss: 52.7465\n",
            "Epoch 43/150\n",
            "11/11 [==============================] - 0s 2ms/step - loss: 57.5599\n",
            "Epoch 44/150\n",
            "11/11 [==============================] - 0s 1ms/step - loss: 48.1537\n",
            "Epoch 45/150\n",
            "11/11 [==============================] - 0s 2ms/step - loss: 61.8023\n",
            "Epoch 46/150\n",
            "11/11 [==============================] - 0s 2ms/step - loss: 46.2304\n",
            "Epoch 47/150\n",
            "11/11 [==============================] - 0s 2ms/step - loss: 57.1117\n",
            "Epoch 48/150\n",
            "11/11 [==============================] - 0s 2ms/step - loss: 43.0429\n",
            "Epoch 49/150\n",
            "11/11 [==============================] - 0s 2ms/step - loss: 50.0107\n",
            "Epoch 50/150\n",
            "11/11 [==============================] - 0s 2ms/step - loss: 49.2888\n",
            "Epoch 51/150\n",
            "11/11 [==============================] - 0s 2ms/step - loss: 56.4829\n",
            "Epoch 52/150\n",
            "11/11 [==============================] - 0s 2ms/step - loss: 45.6035\n",
            "Epoch 53/150\n",
            "11/11 [==============================] - 0s 2ms/step - loss: 45.5364\n",
            "Epoch 54/150\n",
            "11/11 [==============================] - 0s 2ms/step - loss: 50.8288\n",
            "Epoch 55/150\n",
            "11/11 [==============================] - 0s 2ms/step - loss: 43.8574\n",
            "Epoch 56/150\n",
            "11/11 [==============================] - 0s 2ms/step - loss: 59.6360\n",
            "Epoch 57/150\n",
            "11/11 [==============================] - 0s 2ms/step - loss: 43.6348\n",
            "Epoch 58/150\n",
            "11/11 [==============================] - 0s 2ms/step - loss: 50.2663\n",
            "Epoch 59/150\n",
            "11/11 [==============================] - 0s 2ms/step - loss: 56.1922\n",
            "Epoch 60/150\n",
            "11/11 [==============================] - 0s 2ms/step - loss: 52.3829\n",
            "Epoch 61/150\n",
            "11/11 [==============================] - 0s 2ms/step - loss: 43.3506\n",
            "Epoch 62/150\n",
            "11/11 [==============================] - 0s 2ms/step - loss: 52.2802\n",
            "Epoch 63/150\n",
            "11/11 [==============================] - 0s 2ms/step - loss: 51.1288\n",
            "Epoch 64/150\n",
            "11/11 [==============================] - 0s 2ms/step - loss: 45.8837\n",
            "Epoch 65/150\n",
            "11/11 [==============================] - 0s 2ms/step - loss: 53.4122\n",
            "Epoch 66/150\n",
            "11/11 [==============================] - 0s 2ms/step - loss: 39.1590\n",
            "Epoch 67/150\n",
            "11/11 [==============================] - 0s 2ms/step - loss: 44.6844\n",
            "Epoch 68/150\n",
            "11/11 [==============================] - 0s 2ms/step - loss: 43.1964\n",
            "Epoch 69/150\n",
            "11/11 [==============================] - 0s 2ms/step - loss: 43.5448\n",
            "Epoch 70/150\n",
            "11/11 [==============================] - 0s 2ms/step - loss: 42.2102\n",
            "Epoch 71/150\n",
            "11/11 [==============================] - 0s 2ms/step - loss: 40.8434\n",
            "Epoch 72/150\n",
            "11/11 [==============================] - 0s 2ms/step - loss: 47.2070\n",
            "Epoch 73/150\n",
            "11/11 [==============================] - 0s 2ms/step - loss: 52.9728\n",
            "Epoch 74/150\n",
            "11/11 [==============================] - 0s 2ms/step - loss: 42.0558\n",
            "Epoch 75/150\n",
            "11/11 [==============================] - 0s 2ms/step - loss: 50.0391\n",
            "Epoch 76/150\n",
            "11/11 [==============================] - 0s 2ms/step - loss: 41.7271\n",
            "Epoch 77/150\n",
            "11/11 [==============================] - 0s 2ms/step - loss: 42.5393\n",
            "Epoch 78/150\n",
            "11/11 [==============================] - 0s 2ms/step - loss: 35.0744\n",
            "Epoch 79/150\n",
            "11/11 [==============================] - 0s 2ms/step - loss: 44.6105\n",
            "Epoch 80/150\n",
            "11/11 [==============================] - 0s 2ms/step - loss: 40.5201\n",
            "Epoch 81/150\n",
            "11/11 [==============================] - 0s 2ms/step - loss: 44.7556\n",
            "Epoch 82/150\n",
            "11/11 [==============================] - 0s 2ms/step - loss: 39.4483\n",
            "Epoch 83/150\n",
            "11/11 [==============================] - 0s 2ms/step - loss: 44.3706\n",
            "Epoch 84/150\n",
            "11/11 [==============================] - 0s 2ms/step - loss: 43.1695\n",
            "Epoch 85/150\n",
            "11/11 [==============================] - 0s 2ms/step - loss: 50.7312\n",
            "Epoch 86/150\n",
            "11/11 [==============================] - 0s 2ms/step - loss: 37.5547\n",
            "Epoch 87/150\n",
            "11/11 [==============================] - 0s 2ms/step - loss: 43.4388\n",
            "Epoch 88/150\n",
            "11/11 [==============================] - 0s 2ms/step - loss: 43.8062\n",
            "Epoch 89/150\n",
            "11/11 [==============================] - 0s 2ms/step - loss: 40.4704\n",
            "Epoch 90/150\n",
            "11/11 [==============================] - 0s 2ms/step - loss: 35.6053\n",
            "Epoch 91/150\n",
            "11/11 [==============================] - 0s 2ms/step - loss: 43.0649\n",
            "Epoch 92/150\n",
            "11/11 [==============================] - 0s 2ms/step - loss: 46.1127\n",
            "Epoch 93/150\n",
            "11/11 [==============================] - 0s 2ms/step - loss: 48.2729\n",
            "Epoch 94/150\n",
            "11/11 [==============================] - 0s 2ms/step - loss: 39.9705\n",
            "Epoch 95/150\n",
            "11/11 [==============================] - 0s 2ms/step - loss: 34.1139\n",
            "Epoch 96/150\n",
            "11/11 [==============================] - 0s 2ms/step - loss: 40.0731\n",
            "Epoch 97/150\n",
            "11/11 [==============================] - 0s 2ms/step - loss: 36.4308\n",
            "Epoch 98/150\n",
            "11/11 [==============================] - 0s 2ms/step - loss: 44.9921\n",
            "Epoch 99/150\n",
            "11/11 [==============================] - 0s 2ms/step - loss: 39.5307\n",
            "Epoch 100/150\n",
            "11/11 [==============================] - 0s 2ms/step - loss: 37.0681\n",
            "Epoch 101/150\n",
            "11/11 [==============================] - 0s 2ms/step - loss: 44.3697\n",
            "Epoch 102/150\n",
            "11/11 [==============================] - 0s 3ms/step - loss: 40.6260\n",
            "Epoch 103/150\n",
            "11/11 [==============================] - 0s 2ms/step - loss: 39.8805\n",
            "Epoch 104/150\n",
            "11/11 [==============================] - 0s 2ms/step - loss: 36.9810\n",
            "Epoch 105/150\n",
            "11/11 [==============================] - 0s 1ms/step - loss: 42.8282\n",
            "Epoch 106/150\n",
            "11/11 [==============================] - 0s 2ms/step - loss: 40.5647\n",
            "Epoch 107/150\n",
            "11/11 [==============================] - 0s 2ms/step - loss: 36.8744\n",
            "Epoch 108/150\n",
            "11/11 [==============================] - 0s 2ms/step - loss: 38.2390\n",
            "Epoch 109/150\n",
            "11/11 [==============================] - 0s 2ms/step - loss: 34.4060\n",
            "Epoch 110/150\n",
            "11/11 [==============================] - 0s 1ms/step - loss: 37.8365\n",
            "Epoch 111/150\n",
            "11/11 [==============================] - 0s 1ms/step - loss: 36.9818\n",
            "Epoch 112/150\n",
            "11/11 [==============================] - 0s 2ms/step - loss: 35.7798\n",
            "Epoch 113/150\n",
            "11/11 [==============================] - 0s 2ms/step - loss: 36.0555\n",
            "Epoch 114/150\n",
            "11/11 [==============================] - 0s 2ms/step - loss: 37.7060\n",
            "Epoch 115/150\n",
            "11/11 [==============================] - 0s 2ms/step - loss: 42.1903\n",
            "Epoch 116/150\n",
            "11/11 [==============================] - 0s 1ms/step - loss: 44.7208\n",
            "Epoch 117/150\n",
            "11/11 [==============================] - 0s 2ms/step - loss: 43.3620\n",
            "Epoch 118/150\n",
            "11/11 [==============================] - 0s 2ms/step - loss: 44.0405\n",
            "Epoch 119/150\n",
            "11/11 [==============================] - 0s 1ms/step - loss: 40.0366\n",
            "Epoch 120/150\n",
            "11/11 [==============================] - 0s 1ms/step - loss: 38.4807\n",
            "Epoch 121/150\n",
            "11/11 [==============================] - 0s 1ms/step - loss: 35.2600\n",
            "Epoch 122/150\n",
            "11/11 [==============================] - 0s 2ms/step - loss: 35.4360\n",
            "Epoch 123/150\n",
            "11/11 [==============================] - 0s 2ms/step - loss: 35.6002\n",
            "Epoch 124/150\n",
            "11/11 [==============================] - 0s 2ms/step - loss: 40.4884\n",
            "Epoch 125/150\n",
            "11/11 [==============================] - 0s 2ms/step - loss: 34.7373\n",
            "Epoch 126/150\n",
            "11/11 [==============================] - 0s 2ms/step - loss: 36.7948\n",
            "Epoch 127/150\n",
            "11/11 [==============================] - 0s 2ms/step - loss: 35.0247\n",
            "Epoch 128/150\n",
            "11/11 [==============================] - 0s 2ms/step - loss: 38.0783\n",
            "Epoch 129/150\n",
            "11/11 [==============================] - 0s 2ms/step - loss: 39.3266\n",
            "Epoch 130/150\n",
            "11/11 [==============================] - 0s 2ms/step - loss: 35.4947\n",
            "Epoch 131/150\n",
            "11/11 [==============================] - 0s 2ms/step - loss: 33.8081\n",
            "Epoch 132/150\n",
            "11/11 [==============================] - 0s 2ms/step - loss: 37.5351\n",
            "Epoch 133/150\n",
            "11/11 [==============================] - 0s 2ms/step - loss: 42.4017\n",
            "Epoch 134/150\n",
            "11/11 [==============================] - 0s 2ms/step - loss: 42.2214\n",
            "Epoch 135/150\n",
            "11/11 [==============================] - 0s 2ms/step - loss: 42.3159\n",
            "Epoch 136/150\n",
            "11/11 [==============================] - 0s 2ms/step - loss: 46.4318\n",
            "Epoch 137/150\n",
            "11/11 [==============================] - 0s 2ms/step - loss: 38.7195\n",
            "Epoch 138/150\n",
            "11/11 [==============================] - 0s 2ms/step - loss: 37.5339\n",
            "Epoch 139/150\n",
            "11/11 [==============================] - 0s 2ms/step - loss: 34.4740\n",
            "Epoch 140/150\n",
            "11/11 [==============================] - 0s 2ms/step - loss: 40.3035\n",
            "Epoch 141/150\n",
            "11/11 [==============================] - 0s 2ms/step - loss: 33.3015\n",
            "Epoch 142/150\n",
            "11/11 [==============================] - 0s 3ms/step - loss: 38.6622\n",
            "Epoch 143/150\n",
            "11/11 [==============================] - 0s 2ms/step - loss: 35.0717\n",
            "Epoch 144/150\n",
            "11/11 [==============================] - 0s 2ms/step - loss: 30.6568\n",
            "Epoch 145/150\n",
            "11/11 [==============================] - 0s 2ms/step - loss: 37.8905\n",
            "Epoch 146/150\n",
            "11/11 [==============================] - 0s 2ms/step - loss: 35.6642\n",
            "Epoch 147/150\n",
            "11/11 [==============================] - 0s 2ms/step - loss: 38.3137\n",
            "Epoch 148/150\n",
            "11/11 [==============================] - 0s 2ms/step - loss: 34.7644\n",
            "Epoch 149/150\n",
            "11/11 [==============================] - 0s 2ms/step - loss: 35.4781\n",
            "Epoch 150/150\n",
            "11/11 [==============================] - 0s 2ms/step - loss: 35.8835\n"
          ],
          "name": "stdout"
        },
        {
          "output_type": "execute_result",
          "data": {
            "text/plain": [
              "<tensorflow.python.keras.callbacks.History at 0x7faa94409f50>"
            ]
          },
          "metadata": {
            "tags": []
          },
          "execution_count": 21
        }
      ]
    },
    {
      "cell_type": "code",
      "metadata": {
        "colab": {
          "base_uri": "https://localhost:8080/"
        },
        "id": "tGW2tVU4Fnh9",
        "outputId": "5f5498fa-82b1-4b81-dcc1-dd4d7ca6c073"
      },
      "source": [
        "# evaluate the model\n",
        "error = model.evaluate(X_test, y_test, verbose=0)\n",
        "print('MSE: %.3f, RMSE: %.3f' % (error, sqrt(error)))"
      ],
      "execution_count": null,
      "outputs": [
        {
          "output_type": "stream",
          "text": [
            "MSE: 35.504, RMSE: 5.959\n"
          ],
          "name": "stdout"
        }
      ]
    },
    {
      "cell_type": "code",
      "metadata": {
        "colab": {
          "base_uri": "https://localhost:8080/"
        },
        "id": "rxpjXFEgFo-w",
        "outputId": "f67ed065-4dae-4f9b-fd87-7bbeb55ed489"
      },
      "source": [
        "# make a prediction\n",
        "row = [0.00632,18.00,2.310,0,0.5380,6.5750,65.20,4.0900,1,296.0,15.30,396.90,4.98]\n",
        "yhat = model.predict([row])\n",
        "print('Predicted: %.3f' % yhat)"
      ],
      "execution_count": null,
      "outputs": [
        {
          "output_type": "stream",
          "text": [
            "Predicted: 30.860\n"
          ],
          "name": "stdout"
        }
      ]
    }
  ]
}